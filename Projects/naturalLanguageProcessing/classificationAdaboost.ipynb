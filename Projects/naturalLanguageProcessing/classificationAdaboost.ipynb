{
 "cells": [
  {
   "cell_type": "code",
   "execution_count": 1,
   "metadata": {},
   "outputs": [],
   "source": [
    "from sklearn.naive_bayes import MultinomialNB\n",
    "\n",
    "import pandas as pd\n",
    "\n",
    "import numpy as np"
   ]
  },
  {
   "cell_type": "code",
   "execution_count": 6,
   "metadata": {},
   "outputs": [
    {
     "name": "stdout",
     "output_type": "stream",
     "text": [
      "Classification rate for Naive Baiyes is:  0.8717777777777778\n",
      "Classification rate for Naive Baiyes is:  0.83\n"
     ]
    }
   ],
   "source": [
    "data = pd.read_csv('machine_learning_examples/large_files/spambase.data').values\n",
    "\n",
    "np.random.shuffle(data)\n",
    "x = data[:, :48]\n",
    "y = data[:, -1]\n",
    "\n",
    "xtrain = x[:-100,]\n",
    "ytrain = y[:-100,]\n",
    "xtest = x[-100:,]\n",
    "ytest = y[-100:,]\n",
    "\n",
    "model = MultinomialNB()\n",
    "model.fit(xtrain, ytrain)\n",
    "\n",
    "print (\"Classification rate for Naive Baiyes is: \", model.score(xtrain, ytrain))\n",
    "print (\"Classification rate for Naive Baiyes is: \", model.score(xtest, ytest))"
   ]
  },
  {
   "cell_type": "code",
   "execution_count": 7,
   "metadata": {},
   "outputs": [
    {
     "name": "stdout",
     "output_type": "stream",
     "text": [
      "Classification rate for AdaBoost is:  0.9322222222222222\n",
      "Classification rate for AdaBoost is:  0.88\n",
      "Classification rate for Naive Baiyes is:  0.83\n"
     ]
    }
   ],
   "source": [
    "from sklearn.ensemble import AdaBoostClassifier\n",
    "\n",
    "model2 = AdaBoostClassifier()\n",
    "model2.fit(xtrain, ytrain)\n",
    "print (\"Classification rate for AdaBoost is: \", model2.score(xtrain, ytrain))\n",
    "print (\"Classification rate for AdaBoost is: \", model2.score(xtest, ytest))\n",
    "print (\"Classification rate for Naive Baiyes is: \", model.score(xtest, ytest))"
   ]
  },
  {
   "cell_type": "code",
   "execution_count": 39,
   "metadata": {},
   "outputs": [
    {
     "data": {
      "text/plain": [
       "array([[8.00e-02, 0.00e+00, 8.00e-02, ..., 3.60e+01, 5.98e+02, 0.00e+00],\n",
       "       [7.60e-01, 1.90e-01, 3.80e-01, ..., 4.50e+01, 1.07e+03, 1.00e+00],\n",
       "       [9.00e-01, 0.00e+00, 9.00e-01, ..., 5.00e+00, 1.90e+01, 0.00e+00],\n",
       "       ...,\n",
       "       [0.00e+00, 0.00e+00, 0.00e+00, ..., 3.00e+00, 3.80e+01, 0.00e+00],\n",
       "       [1.20e-01, 0.00e+00, 1.20e-01, ..., 3.20e+01, 4.85e+02, 0.00e+00],\n",
       "       [0.00e+00, 0.00e+00, 0.00e+00, ..., 1.00e+00, 4.00e+00, 0.00e+00]])"
      ]
     },
     "execution_count": 39,
     "metadata": {},
     "output_type": "execute_result"
    }
   ],
   "source": [
    "data"
   ]
  },
  {
   "cell_type": "code",
   "execution_count": null,
   "metadata": {},
   "outputs": [],
   "source": []
  }
 ],
 "metadata": {
  "kernelspec": {
   "display_name": "Python 3",
   "language": "python",
   "name": "python3"
  },
  "language_info": {
   "codemirror_mode": {
    "name": "ipython",
    "version": 3
   },
   "file_extension": ".py",
   "mimetype": "text/x-python",
   "name": "python",
   "nbconvert_exporter": "python",
   "pygments_lexer": "ipython3",
   "version": "3.6.8"
  }
 },
 "nbformat": 4,
 "nbformat_minor": 2
}
